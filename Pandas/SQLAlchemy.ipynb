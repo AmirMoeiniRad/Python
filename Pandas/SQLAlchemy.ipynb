{
 "cells": [
  {
   "cell_type": "markdown",
   "id": "912a301e-7af5-49ac-90a5-4ba66a96ed37",
   "metadata": {},
   "source": [
    "# SQLAlchemy Library"
   ]
  },
  {
   "cell_type": "markdown",
   "id": "5ec11db5-2e0a-43cc-85d3-bfb972f1bbb4",
   "metadata": {},
   "source": [
    "The **sqlalchemy** library reads/writes data from/to an SQL database. It works with Pandas DataFrames.\n",
    "In this example, an SQLite databse is create in memory and the data from a dataframe is copied into the databse."
   ]
  },
  {
   "cell_type": "code",
   "execution_count": 22,
   "id": "addebfcb-fc8a-4fd1-baf3-41dbded06590",
   "metadata": {},
   "outputs": [],
   "source": [
    "# First, an engine must be created in memory.\n",
    "# The engine provides a source of connectivity to the database.\n",
    "from sqlalchemy import create_engine"
   ]
  },
  {
   "cell_type": "code",
   "execution_count": 23,
   "id": "fa159be3-227a-4ef7-b037-9b921dcbfae7",
   "metadata": {},
   "outputs": [],
   "source": [
    "# The engine is created. 'sqlite' is called the 'dialect' which specifies the type of database.\n",
    "# The SQLite database in created in 'memory'.\n",
    "engine = create_engine('sqlite:///:memory:')"
   ]
  },
  {
   "cell_type": "code",
   "execution_count": 24,
   "id": "35d35432-e754-4c40-aad1-aa51a566783e",
   "metadata": {},
   "outputs": [
    {
     "data": {
      "text/html": [
       "<div>\n",
       "<style scoped>\n",
       "    .dataframe tbody tr th:only-of-type {\n",
       "        vertical-align: middle;\n",
       "    }\n",
       "\n",
       "    .dataframe tbody tr th {\n",
       "        vertical-align: top;\n",
       "    }\n",
       "\n",
       "    .dataframe thead th {\n",
       "        text-align: right;\n",
       "    }\n",
       "</style>\n",
       "<table border=\"1\" class=\"dataframe\">\n",
       "  <thead>\n",
       "    <tr style=\"text-align: right;\">\n",
       "      <th></th>\n",
       "      <th>A</th>\n",
       "      <th>B</th>\n",
       "      <th>C</th>\n",
       "      <th>D</th>\n",
       "    </tr>\n",
       "  </thead>\n",
       "  <tbody>\n",
       "    <tr>\n",
       "      <th>0</th>\n",
       "      <td>0</td>\n",
       "      <td>4</td>\n",
       "      <td>8</td>\n",
       "      <td>12</td>\n",
       "    </tr>\n",
       "    <tr>\n",
       "      <th>1</th>\n",
       "      <td>1</td>\n",
       "      <td>5</td>\n",
       "      <td>9</td>\n",
       "      <td>13</td>\n",
       "    </tr>\n",
       "    <tr>\n",
       "      <th>2</th>\n",
       "      <td>2</td>\n",
       "      <td>6</td>\n",
       "      <td>10</td>\n",
       "      <td>14</td>\n",
       "    </tr>\n",
       "    <tr>\n",
       "      <th>3</th>\n",
       "      <td>3</td>\n",
       "      <td>7</td>\n",
       "      <td>11</td>\n",
       "      <td>15</td>\n",
       "    </tr>\n",
       "  </tbody>\n",
       "</table>\n",
       "</div>"
      ],
      "text/plain": [
       "   A  B   C   D\n",
       "0  0  4   8  12\n",
       "1  1  5   9  13\n",
       "2  2  6  10  14\n",
       "3  3  7  11  15"
      ]
     },
     "execution_count": 24,
     "metadata": {},
     "output_type": "execute_result"
    }
   ],
   "source": [
    "# Sample DataFrame\n",
    "import numpy as np\n",
    "import pandas as pd\n",
    "dict = {'A':[0, 1, 2, 3],'B':[4, 5, 6, 7],'C':[8, 9, 10, 11],'D':[12, 13, 14, 15]}\n",
    "df = pd.DataFrame(dict)\n",
    "df"
   ]
  },
  {
   "cell_type": "code",
   "execution_count": 25,
   "id": "bd36618d-dab1-42ac-a7a0-83bec6ad3496",
   "metadata": {},
   "outputs": [
    {
     "data": {
      "text/plain": [
       "4"
      ]
     },
     "execution_count": 25,
     "metadata": {},
     "output_type": "execute_result"
    }
   ],
   "source": [
    "# The data from our dataframe is copied into the SQLite database as a table named 'my_table'.\n",
    "df.to_sql('my_table', engine)"
   ]
  },
  {
   "cell_type": "code",
   "execution_count": 26,
   "id": "7c461a29-eed6-43dd-b2ea-9fbecf4c032d",
   "metadata": {},
   "outputs": [],
   "source": [
    "# Now, read data from the database. The data is converted to a Pandas dataframe.\n",
    "# The connection to the database is made by 'engine'.\n",
    "sql_df = pd.read_sql('my_table',con=engine)"
   ]
  },
  {
   "cell_type": "code",
   "execution_count": 27,
   "id": "67fcf525-1127-4a53-a27b-5fbbf0fb4739",
   "metadata": {},
   "outputs": [
    {
     "data": {
      "text/html": [
       "<div>\n",
       "<style scoped>\n",
       "    .dataframe tbody tr th:only-of-type {\n",
       "        vertical-align: middle;\n",
       "    }\n",
       "\n",
       "    .dataframe tbody tr th {\n",
       "        vertical-align: top;\n",
       "    }\n",
       "\n",
       "    .dataframe thead th {\n",
       "        text-align: right;\n",
       "    }\n",
       "</style>\n",
       "<table border=\"1\" class=\"dataframe\">\n",
       "  <thead>\n",
       "    <tr style=\"text-align: right;\">\n",
       "      <th></th>\n",
       "      <th>index</th>\n",
       "      <th>A</th>\n",
       "      <th>B</th>\n",
       "      <th>C</th>\n",
       "      <th>D</th>\n",
       "    </tr>\n",
       "  </thead>\n",
       "  <tbody>\n",
       "    <tr>\n",
       "      <th>0</th>\n",
       "      <td>0</td>\n",
       "      <td>0</td>\n",
       "      <td>4</td>\n",
       "      <td>8</td>\n",
       "      <td>12</td>\n",
       "    </tr>\n",
       "    <tr>\n",
       "      <th>1</th>\n",
       "      <td>1</td>\n",
       "      <td>1</td>\n",
       "      <td>5</td>\n",
       "      <td>9</td>\n",
       "      <td>13</td>\n",
       "    </tr>\n",
       "    <tr>\n",
       "      <th>2</th>\n",
       "      <td>2</td>\n",
       "      <td>2</td>\n",
       "      <td>6</td>\n",
       "      <td>10</td>\n",
       "      <td>14</td>\n",
       "    </tr>\n",
       "    <tr>\n",
       "      <th>3</th>\n",
       "      <td>3</td>\n",
       "      <td>3</td>\n",
       "      <td>7</td>\n",
       "      <td>11</td>\n",
       "      <td>15</td>\n",
       "    </tr>\n",
       "  </tbody>\n",
       "</table>\n",
       "</div>"
      ],
      "text/plain": [
       "   index  A  B   C   D\n",
       "0      0  0  4   8  12\n",
       "1      1  1  5   9  13\n",
       "2      2  2  6  10  14\n",
       "3      3  3  7  11  15"
      ]
     },
     "execution_count": 27,
     "metadata": {},
     "output_type": "execute_result"
    }
   ],
   "source": [
    "sql_df"
   ]
  },
  {
   "cell_type": "code",
   "execution_count": null,
   "id": "40339f4c-f7e2-47e6-be02-c7fb0a0a3752",
   "metadata": {},
   "outputs": [],
   "source": []
  }
 ],
 "metadata": {
  "kernelspec": {
   "display_name": "Python 3 (ipykernel)",
   "language": "python",
   "name": "python3"
  },
  "language_info": {
   "codemirror_mode": {
    "name": "ipython",
    "version": 3
   },
   "file_extension": ".py",
   "mimetype": "text/x-python",
   "name": "python",
   "nbconvert_exporter": "python",
   "pygments_lexer": "ipython3",
   "version": "3.11.7"
  }
 },
 "nbformat": 4,
 "nbformat_minor": 5
}
